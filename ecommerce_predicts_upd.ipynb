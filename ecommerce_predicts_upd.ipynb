{
 "cells": [
  {
   "cell_type": "code",
   "execution_count": 1,
   "metadata": {},
   "outputs": [],
   "source": [
    "import pandas as pd\n",
    "import numpy as np\n",
    "import matplotlib.pyplot as plt\n",
    "from sklearn.model_selection import train_test_split"
   ]
  },
  {
   "cell_type": "code",
   "execution_count": 2,
   "metadata": {},
   "outputs": [],
   "source": [
    "data = {\n",
    "\t\"customerName\":['varun', 'ajay', 'abhijeet','uma','nishit','nikunj','vijay', 'amar', 'chirag', 'abhinav'],\n",
    "\t\"customerID\":[1,2,3,4,5,6,7,8,9,10],\n",
    "\t\"AvgsessionLength\":[34.5, 31.9, 33.00,34.30,33.23,23.21,33.5, 30.9, 33.44,31.30],\n",
    "\t\"AvgtimeOnWebsite\":[39.57,37.26,37.11,36.72,37.53,33.46,39.68,34.26,33.11,32.72],\n",
    "\t\"yearlyAmountSpent\":[2000, 5000, 8000, 12000, 15000,4500,2600, 6000, 5000, 10000],\n",
    "\t\"AvgtimeSpentToBuyAnItem\":[33.56,42.13,25.64, 36.42,39.61, 23.54,33.56,42.13,25.64, 36.42],\n",
    "}"
   ]
  },
  {
   "cell_type": "code",
   "execution_count": 3,
   "metadata": {},
   "outputs": [],
   "source": [
    "data = pd.DataFrame(data)"
   ]
  },
  {
   "cell_type": "code",
   "execution_count": 7,
   "metadata": {},
   "outputs": [
    {
     "data": {
      "text/html": [
       "<div>\n",
       "<style scoped>\n",
       "    .dataframe tbody tr th:only-of-type {\n",
       "        vertical-align: middle;\n",
       "    }\n",
       "\n",
       "    .dataframe tbody tr th {\n",
       "        vertical-align: top;\n",
       "    }\n",
       "\n",
       "    .dataframe thead th {\n",
       "        text-align: right;\n",
       "    }\n",
       "</style>\n",
       "<table border=\"1\" class=\"dataframe\">\n",
       "  <thead>\n",
       "    <tr style=\"text-align: right;\">\n",
       "      <th></th>\n",
       "      <th>customerName</th>\n",
       "      <th>customerID</th>\n",
       "      <th>AvgsessionLength</th>\n",
       "      <th>AvgtimeOnWebsite</th>\n",
       "      <th>yearlyAmountSpent</th>\n",
       "      <th>AvgtimeSpentToBuyAnItem</th>\n",
       "    </tr>\n",
       "  </thead>\n",
       "  <tbody>\n",
       "    <tr>\n",
       "      <th>0</th>\n",
       "      <td>varun</td>\n",
       "      <td>1</td>\n",
       "      <td>34.50</td>\n",
       "      <td>39.57</td>\n",
       "      <td>2000</td>\n",
       "      <td>33.56</td>\n",
       "    </tr>\n",
       "    <tr>\n",
       "      <th>1</th>\n",
       "      <td>ajay</td>\n",
       "      <td>2</td>\n",
       "      <td>31.90</td>\n",
       "      <td>37.26</td>\n",
       "      <td>5000</td>\n",
       "      <td>42.13</td>\n",
       "    </tr>\n",
       "    <tr>\n",
       "      <th>2</th>\n",
       "      <td>abhijeet</td>\n",
       "      <td>3</td>\n",
       "      <td>33.00</td>\n",
       "      <td>37.11</td>\n",
       "      <td>8000</td>\n",
       "      <td>25.64</td>\n",
       "    </tr>\n",
       "    <tr>\n",
       "      <th>3</th>\n",
       "      <td>uma</td>\n",
       "      <td>4</td>\n",
       "      <td>34.30</td>\n",
       "      <td>36.72</td>\n",
       "      <td>12000</td>\n",
       "      <td>36.42</td>\n",
       "    </tr>\n",
       "    <tr>\n",
       "      <th>4</th>\n",
       "      <td>nishit</td>\n",
       "      <td>5</td>\n",
       "      <td>33.23</td>\n",
       "      <td>37.53</td>\n",
       "      <td>15000</td>\n",
       "      <td>39.61</td>\n",
       "    </tr>\n",
       "  </tbody>\n",
       "</table>\n",
       "</div>"
      ],
      "text/plain": [
       "  customerName  customerID  AvgsessionLength  AvgtimeOnWebsite  \\\n",
       "0        varun           1             34.50             39.57   \n",
       "1         ajay           2             31.90             37.26   \n",
       "2     abhijeet           3             33.00             37.11   \n",
       "3          uma           4             34.30             36.72   \n",
       "4       nishit           5             33.23             37.53   \n",
       "\n",
       "   yearlyAmountSpent  AvgtimeSpentToBuyAnItem  \n",
       "0               2000                    33.56  \n",
       "1               5000                    42.13  \n",
       "2               8000                    25.64  \n",
       "3              12000                    36.42  \n",
       "4              15000                    39.61  "
      ]
     },
     "execution_count": 7,
     "metadata": {},
     "output_type": "execute_result"
    }
   ],
   "source": [
    "data.head()"
   ]
  },
  {
   "cell_type": "code",
   "execution_count": 8,
   "metadata": {},
   "outputs": [
    {
     "data": {
      "text/html": [
       "<div>\n",
       "<style scoped>\n",
       "    .dataframe tbody tr th:only-of-type {\n",
       "        vertical-align: middle;\n",
       "    }\n",
       "\n",
       "    .dataframe tbody tr th {\n",
       "        vertical-align: top;\n",
       "    }\n",
       "\n",
       "    .dataframe thead th {\n",
       "        text-align: right;\n",
       "    }\n",
       "</style>\n",
       "<table border=\"1\" class=\"dataframe\">\n",
       "  <thead>\n",
       "    <tr style=\"text-align: right;\">\n",
       "      <th></th>\n",
       "      <th>customerName</th>\n",
       "      <th>customerID</th>\n",
       "      <th>AvgsessionLength</th>\n",
       "      <th>AvgtimeOnWebsite</th>\n",
       "      <th>yearlyAmountSpent</th>\n",
       "      <th>AvgtimeSpentToBuyAnItem</th>\n",
       "    </tr>\n",
       "  </thead>\n",
       "  <tbody>\n",
       "    <tr>\n",
       "      <th>0</th>\n",
       "      <td>varun</td>\n",
       "      <td>1</td>\n",
       "      <td>34.50</td>\n",
       "      <td>39.57</td>\n",
       "      <td>2000</td>\n",
       "      <td>33.56</td>\n",
       "    </tr>\n",
       "    <tr>\n",
       "      <th>1</th>\n",
       "      <td>ajay</td>\n",
       "      <td>2</td>\n",
       "      <td>31.90</td>\n",
       "      <td>37.26</td>\n",
       "      <td>5000</td>\n",
       "      <td>42.13</td>\n",
       "    </tr>\n",
       "    <tr>\n",
       "      <th>2</th>\n",
       "      <td>abhijeet</td>\n",
       "      <td>3</td>\n",
       "      <td>33.00</td>\n",
       "      <td>37.11</td>\n",
       "      <td>8000</td>\n",
       "      <td>25.64</td>\n",
       "    </tr>\n",
       "    <tr>\n",
       "      <th>3</th>\n",
       "      <td>uma</td>\n",
       "      <td>4</td>\n",
       "      <td>34.30</td>\n",
       "      <td>36.72</td>\n",
       "      <td>12000</td>\n",
       "      <td>36.42</td>\n",
       "    </tr>\n",
       "    <tr>\n",
       "      <th>4</th>\n",
       "      <td>nishit</td>\n",
       "      <td>5</td>\n",
       "      <td>33.23</td>\n",
       "      <td>37.53</td>\n",
       "      <td>15000</td>\n",
       "      <td>39.61</td>\n",
       "    </tr>\n",
       "  </tbody>\n",
       "</table>\n",
       "</div>"
      ],
      "text/plain": [
       "  customerName  customerID  AvgsessionLength  AvgtimeOnWebsite  \\\n",
       "0        varun           1             34.50             39.57   \n",
       "1         ajay           2             31.90             37.26   \n",
       "2     abhijeet           3             33.00             37.11   \n",
       "3          uma           4             34.30             36.72   \n",
       "4       nishit           5             33.23             37.53   \n",
       "\n",
       "   yearlyAmountSpent  AvgtimeSpentToBuyAnItem  \n",
       "0               2000                    33.56  \n",
       "1               5000                    42.13  \n",
       "2               8000                    25.64  \n",
       "3              12000                    36.42  \n",
       "4              15000                    39.61  "
      ]
     },
     "execution_count": 8,
     "metadata": {},
     "output_type": "execute_result"
    }
   ],
   "source": [
    "df = data\n",
    "df.head()"
   ]
  },
  {
   "cell_type": "code",
   "execution_count": 5,
   "metadata": {},
   "outputs": [],
   "source": [
    "from sklearn.preprocessing import StandardScaler"
   ]
  },
  {
   "cell_type": "code",
   "execution_count": 6,
   "metadata": {},
   "outputs": [],
   "source": [
    "sc = StandardScaler()"
   ]
  },
  {
   "cell_type": "code",
   "execution_count": 9,
   "metadata": {},
   "outputs": [
    {
     "data": {
      "text/plain": [
       "Index(['customerName', 'customerID', 'AvgsessionLength', 'AvgtimeOnWebsite',\n",
       "       'yearlyAmountSpent', 'AvgtimeSpentToBuyAnItem'],\n",
       "      dtype='object')"
      ]
     },
     "execution_count": 9,
     "metadata": {},
     "output_type": "execute_result"
    }
   ],
   "source": [
    "data.columns"
   ]
  },
  {
   "cell_type": "code",
   "execution_count": 10,
   "metadata": {},
   "outputs": [],
   "source": [
    "column_names = ['AvgsessionLength', 'AvgtimeOnWebsite',\n",
    "       'yearlyAmountSpent', 'AvgtimeSpentToBuyAnItem']"
   ]
  },
  {
   "cell_type": "code",
   "execution_count": 11,
   "metadata": {},
   "outputs": [],
   "source": [
    "features = df[column_names]"
   ]
  },
  {
   "cell_type": "code",
   "execution_count": 12,
   "metadata": {},
   "outputs": [],
   "source": [
    "scaled = sc.fit_transform(features)"
   ]
  },
  {
   "cell_type": "code",
   "execution_count": 13,
   "metadata": {},
   "outputs": [],
   "source": [
    "df[column_names] = scaled"
   ]
  },
  {
   "cell_type": "code",
   "execution_count": 14,
   "metadata": {},
   "outputs": [
    {
     "data": {
      "text/html": [
       "<div>\n",
       "<style scoped>\n",
       "    .dataframe tbody tr th:only-of-type {\n",
       "        vertical-align: middle;\n",
       "    }\n",
       "\n",
       "    .dataframe tbody tr th {\n",
       "        vertical-align: top;\n",
       "    }\n",
       "\n",
       "    .dataframe thead th {\n",
       "        text-align: right;\n",
       "    }\n",
       "</style>\n",
       "<table border=\"1\" class=\"dataframe\">\n",
       "  <thead>\n",
       "    <tr style=\"text-align: right;\">\n",
       "      <th></th>\n",
       "      <th>customerName</th>\n",
       "      <th>customerID</th>\n",
       "      <th>AvgsessionLength</th>\n",
       "      <th>AvgtimeOnWebsite</th>\n",
       "      <th>yearlyAmountSpent</th>\n",
       "      <th>AvgtimeSpentToBuyAnItem</th>\n",
       "    </tr>\n",
       "  </thead>\n",
       "  <tbody>\n",
       "    <tr>\n",
       "      <th>0</th>\n",
       "      <td>varun</td>\n",
       "      <td>1</td>\n",
       "      <td>0.824551</td>\n",
       "      <td>1.395361</td>\n",
       "      <td>-1.257980</td>\n",
       "      <td>-0.046797</td>\n",
       "    </tr>\n",
       "    <tr>\n",
       "      <th>1</th>\n",
       "      <td>ajay</td>\n",
       "      <td>2</td>\n",
       "      <td>-0.008976</td>\n",
       "      <td>0.455080</td>\n",
       "      <td>-0.504699</td>\n",
       "      <td>1.268130</td>\n",
       "    </tr>\n",
       "    <tr>\n",
       "      <th>2</th>\n",
       "      <td>abhijeet</td>\n",
       "      <td>3</td>\n",
       "      <td>0.343670</td>\n",
       "      <td>0.394023</td>\n",
       "      <td>0.248583</td>\n",
       "      <td>-1.261992</td>\n",
       "    </tr>\n",
       "    <tr>\n",
       "      <th>3</th>\n",
       "      <td>uma</td>\n",
       "      <td>4</td>\n",
       "      <td>0.760433</td>\n",
       "      <td>0.235274</td>\n",
       "      <td>1.252958</td>\n",
       "      <td>0.392023</td>\n",
       "    </tr>\n",
       "    <tr>\n",
       "      <th>4</th>\n",
       "      <td>nishit</td>\n",
       "      <td>5</td>\n",
       "      <td>0.417405</td>\n",
       "      <td>0.564983</td>\n",
       "      <td>2.006240</td>\n",
       "      <td>0.881477</td>\n",
       "    </tr>\n",
       "  </tbody>\n",
       "</table>\n",
       "</div>"
      ],
      "text/plain": [
       "  customerName  customerID  AvgsessionLength  AvgtimeOnWebsite  \\\n",
       "0        varun           1          0.824551          1.395361   \n",
       "1         ajay           2         -0.008976          0.455080   \n",
       "2     abhijeet           3          0.343670          0.394023   \n",
       "3          uma           4          0.760433          0.235274   \n",
       "4       nishit           5          0.417405          0.564983   \n",
       "\n",
       "   yearlyAmountSpent  AvgtimeSpentToBuyAnItem  \n",
       "0          -1.257980                -0.046797  \n",
       "1          -0.504699                 1.268130  \n",
       "2           0.248583                -1.261992  \n",
       "3           1.252958                 0.392023  \n",
       "4           2.006240                 0.881477  "
      ]
     },
     "execution_count": 14,
     "metadata": {},
     "output_type": "execute_result"
    }
   ],
   "source": [
    "df.head()"
   ]
  },
  {
   "cell_type": "code",
   "execution_count": 15,
   "metadata": {},
   "outputs": [],
   "source": [
    "X = df[['AvgsessionLength', 'AvgtimeOnWebsite',\n",
    "       'yearlyAmountSpent']]\n",
    "y = df['AvgtimeSpentToBuyAnItem']"
   ]
  },
  {
   "cell_type": "code",
   "execution_count": 16,
   "metadata": {},
   "outputs": [],
   "source": [
    "X_train, X_test, y_train, y_test = train_test_split(X, y, test_size = 0.2)"
   ]
  },
  {
   "cell_type": "code",
   "execution_count": 17,
   "metadata": {},
   "outputs": [],
   "source": [
    "from sklearn.linear_model import LinearRegression"
   ]
  },
  {
   "cell_type": "code",
   "execution_count": 18,
   "metadata": {},
   "outputs": [
    {
     "data": {
      "text/plain": [
       "LinearRegression()"
      ]
     },
     "execution_count": 18,
     "metadata": {},
     "output_type": "execute_result"
    }
   ],
   "source": [
    "lr = LinearRegression()\n",
    "lr.fit(X_train, y_train)"
   ]
  },
  {
   "cell_type": "code",
   "execution_count": 19,
   "metadata": {},
   "outputs": [
    {
     "data": {
      "text/plain": [
       "array([0.15768168, 0.32972099, 0.2392907 ])"
      ]
     },
     "execution_count": 19,
     "metadata": {},
     "output_type": "execute_result"
    }
   ],
   "source": [
    "lr.coef_"
   ]
  },
  {
   "cell_type": "code",
   "execution_count": 20,
   "metadata": {},
   "outputs": [
    {
     "data": {
      "text/plain": [
       "-0.0459071522943955"
      ]
     },
     "execution_count": 20,
     "metadata": {},
     "output_type": "execute_result"
    }
   ],
   "source": [
    "lr.intercept_"
   ]
  },
  {
   "cell_type": "code",
   "execution_count": 21,
   "metadata": {},
   "outputs": [],
   "source": [
    "predictions = lr.predict(X_test)\n",
    "predictions_train = lr.predict(X_train)\n",
    "predictions = np.hstack((predictions_train, predictions))"
   ]
  },
  {
   "cell_type": "code",
   "execution_count": 22,
   "metadata": {},
   "outputs": [],
   "source": [
    "predicted_df = pd.DataFrame(data=predictions, columns=['predictions'])"
   ]
  },
  {
   "cell_type": "code",
   "execution_count": 23,
   "metadata": {},
   "outputs": [],
   "source": [
    "df_out = pd.merge(df, predicted_df, how ='left', left_index=True, \n",
    "                 right_index=True)"
   ]
  },
  {
   "cell_type": "code",
   "execution_count": 24,
   "metadata": {},
   "outputs": [
    {
     "data": {
      "text/html": [
       "<div>\n",
       "<style scoped>\n",
       "    .dataframe tbody tr th:only-of-type {\n",
       "        vertical-align: middle;\n",
       "    }\n",
       "\n",
       "    .dataframe tbody tr th {\n",
       "        vertical-align: top;\n",
       "    }\n",
       "\n",
       "    .dataframe thead th {\n",
       "        text-align: right;\n",
       "    }\n",
       "</style>\n",
       "<table border=\"1\" class=\"dataframe\">\n",
       "  <thead>\n",
       "    <tr style=\"text-align: right;\">\n",
       "      <th></th>\n",
       "      <th>customerName</th>\n",
       "      <th>customerID</th>\n",
       "      <th>AvgsessionLength</th>\n",
       "      <th>AvgtimeOnWebsite</th>\n",
       "      <th>yearlyAmountSpent</th>\n",
       "      <th>AvgtimeSpentToBuyAnItem</th>\n",
       "      <th>predictions</th>\n",
       "    </tr>\n",
       "  </thead>\n",
       "  <tbody>\n",
       "    <tr>\n",
       "      <th>0</th>\n",
       "      <td>varun</td>\n",
       "      <td>1</td>\n",
       "      <td>0.824551</td>\n",
       "      <td>1.395361</td>\n",
       "      <td>-1.257980</td>\n",
       "      <td>-0.046797</td>\n",
       "      <td>-0.497176</td>\n",
       "    </tr>\n",
       "    <tr>\n",
       "      <th>1</th>\n",
       "      <td>ajay</td>\n",
       "      <td>2</td>\n",
       "      <td>-0.008976</td>\n",
       "      <td>0.455080</td>\n",
       "      <td>-0.504699</td>\n",
       "      <td>1.268130</td>\n",
       "      <td>0.451395</td>\n",
       "    </tr>\n",
       "    <tr>\n",
       "      <th>2</th>\n",
       "      <td>abhijeet</td>\n",
       "      <td>3</td>\n",
       "      <td>0.343670</td>\n",
       "      <td>0.394023</td>\n",
       "      <td>0.248583</td>\n",
       "      <td>-1.261992</td>\n",
       "      <td>-0.997378</td>\n",
       "    </tr>\n",
       "    <tr>\n",
       "      <th>3</th>\n",
       "      <td>uma</td>\n",
       "      <td>4</td>\n",
       "      <td>0.760433</td>\n",
       "      <td>0.235274</td>\n",
       "      <td>1.252958</td>\n",
       "      <td>0.392023</td>\n",
       "      <td>0.243166</td>\n",
       "    </tr>\n",
       "    <tr>\n",
       "      <th>4</th>\n",
       "      <td>nishit</td>\n",
       "      <td>5</td>\n",
       "      <td>0.417405</td>\n",
       "      <td>0.564983</td>\n",
       "      <td>2.006240</td>\n",
       "      <td>0.881477</td>\n",
       "      <td>0.686271</td>\n",
       "    </tr>\n",
       "    <tr>\n",
       "      <th>5</th>\n",
       "      <td>nikunj</td>\n",
       "      <td>6</td>\n",
       "      <td>-2.794880</td>\n",
       "      <td>-1.091703</td>\n",
       "      <td>-0.630246</td>\n",
       "      <td>-1.584203</td>\n",
       "      <td>-0.018043</td>\n",
       "    </tr>\n",
       "    <tr>\n",
       "      <th>6</th>\n",
       "      <td>vijay</td>\n",
       "      <td>7</td>\n",
       "      <td>0.503963</td>\n",
       "      <td>1.440136</td>\n",
       "      <td>-1.107324</td>\n",
       "      <td>-0.046797</td>\n",
       "      <td>0.197684</td>\n",
       "    </tr>\n",
       "    <tr>\n",
       "      <th>7</th>\n",
       "      <td>amar</td>\n",
       "      <td>8</td>\n",
       "      <td>-0.329564</td>\n",
       "      <td>-0.766064</td>\n",
       "      <td>-0.253605</td>\n",
       "      <td>1.268130</td>\n",
       "      <td>-0.411146</td>\n",
       "    </tr>\n",
       "    <tr>\n",
       "      <th>8</th>\n",
       "      <td>chirag</td>\n",
       "      <td>9</td>\n",
       "      <td>0.484728</td>\n",
       "      <td>-1.234170</td>\n",
       "      <td>-0.504699</td>\n",
       "      <td>-1.261992</td>\n",
       "      <td>0.243429</td>\n",
       "    </tr>\n",
       "    <tr>\n",
       "      <th>9</th>\n",
       "      <td>abhinav</td>\n",
       "      <td>10</td>\n",
       "      <td>-0.201329</td>\n",
       "      <td>-1.392918</td>\n",
       "      <td>0.750771</td>\n",
       "      <td>0.392023</td>\n",
       "      <td>-0.357275</td>\n",
       "    </tr>\n",
       "  </tbody>\n",
       "</table>\n",
       "</div>"
      ],
      "text/plain": [
       "  customerName  customerID  AvgsessionLength  AvgtimeOnWebsite  \\\n",
       "0        varun           1          0.824551          1.395361   \n",
       "1         ajay           2         -0.008976          0.455080   \n",
       "2     abhijeet           3          0.343670          0.394023   \n",
       "3          uma           4          0.760433          0.235274   \n",
       "4       nishit           5          0.417405          0.564983   \n",
       "5       nikunj           6         -2.794880         -1.091703   \n",
       "6        vijay           7          0.503963          1.440136   \n",
       "7         amar           8         -0.329564         -0.766064   \n",
       "8       chirag           9          0.484728         -1.234170   \n",
       "9      abhinav          10         -0.201329         -1.392918   \n",
       "\n",
       "   yearlyAmountSpent  AvgtimeSpentToBuyAnItem  predictions  \n",
       "0          -1.257980                -0.046797    -0.497176  \n",
       "1          -0.504699                 1.268130     0.451395  \n",
       "2           0.248583                -1.261992    -0.997378  \n",
       "3           1.252958                 0.392023     0.243166  \n",
       "4           2.006240                 0.881477     0.686271  \n",
       "5          -0.630246                -1.584203    -0.018043  \n",
       "6          -1.107324                -0.046797     0.197684  \n",
       "7          -0.253605                 1.268130    -0.411146  \n",
       "8          -0.504699                -1.261992     0.243429  \n",
       "9           0.750771                 0.392023    -0.357275  "
      ]
     },
     "execution_count": 24,
     "metadata": {},
     "output_type": "execute_result"
    }
   ],
   "source": [
    "df_out"
   ]
  },
  {
   "cell_type": "code",
   "execution_count": 29,
   "metadata": {},
   "outputs": [
    {
     "data": {
      "text/html": [
       "<div>\n",
       "<style scoped>\n",
       "    .dataframe tbody tr th:only-of-type {\n",
       "        vertical-align: middle;\n",
       "    }\n",
       "\n",
       "    .dataframe tbody tr th {\n",
       "        vertical-align: top;\n",
       "    }\n",
       "\n",
       "    .dataframe thead th {\n",
       "        text-align: right;\n",
       "    }\n",
       "</style>\n",
       "<table border=\"1\" class=\"dataframe\">\n",
       "  <thead>\n",
       "    <tr style=\"text-align: right;\">\n",
       "      <th></th>\n",
       "      <th>customerName</th>\n",
       "      <th>customerID</th>\n",
       "      <th>AvgsessionLength</th>\n",
       "      <th>AvgtimeOnWebsite</th>\n",
       "      <th>yearlyAmountSpent</th>\n",
       "      <th>AvgtimeSpentToBuyAnItem</th>\n",
       "      <th>predictions</th>\n",
       "    </tr>\n",
       "  </thead>\n",
       "  <tbody>\n",
       "    <tr>\n",
       "      <th>0</th>\n",
       "      <td>varun</td>\n",
       "      <td>1</td>\n",
       "      <td>139.542985</td>\n",
       "      <td>133.354111</td>\n",
       "      <td>7.972159e+06</td>\n",
       "      <td>33.56</td>\n",
       "      <td>30.624671</td>\n",
       "    </tr>\n",
       "    <tr>\n",
       "      <th>1</th>\n",
       "      <td>ajay</td>\n",
       "      <td>2</td>\n",
       "      <td>131.432870</td>\n",
       "      <td>127.679105</td>\n",
       "      <td>1.991988e+07</td>\n",
       "      <td>42.13</td>\n",
       "      <td>36.806956</td>\n",
       "    </tr>\n",
       "    <tr>\n",
       "      <th>2</th>\n",
       "      <td>abhijeet</td>\n",
       "      <td>3</td>\n",
       "      <td>134.864072</td>\n",
       "      <td>127.310599</td>\n",
       "      <td>3.186761e+07</td>\n",
       "      <td>25.64</td>\n",
       "      <td>27.364618</td>\n",
       "    </tr>\n",
       "    <tr>\n",
       "      <th>3</th>\n",
       "      <td>uma</td>\n",
       "      <td>4</td>\n",
       "      <td>138.919130</td>\n",
       "      <td>126.352481</td>\n",
       "      <td>4.779790e+07</td>\n",
       "      <td>36.42</td>\n",
       "      <td>35.449828</td>\n",
       "    </tr>\n",
       "    <tr>\n",
       "      <th>4</th>\n",
       "      <td>nishit</td>\n",
       "      <td>5</td>\n",
       "      <td>135.581505</td>\n",
       "      <td>128.342418</td>\n",
       "      <td>5.974563e+07</td>\n",
       "      <td>39.61</td>\n",
       "      <td>38.337753</td>\n",
       "    </tr>\n",
       "    <tr>\n",
       "      <th>5</th>\n",
       "      <td>nikunj</td>\n",
       "      <td>6</td>\n",
       "      <td>104.326371</td>\n",
       "      <td>118.343598</td>\n",
       "      <td>1.792860e+07</td>\n",
       "      <td>23.54</td>\n",
       "      <td>33.747406</td>\n",
       "    </tr>\n",
       "    <tr>\n",
       "      <th>6</th>\n",
       "      <td>vijay</td>\n",
       "      <td>7</td>\n",
       "      <td>136.423710</td>\n",
       "      <td>133.624350</td>\n",
       "      <td>1.036170e+07</td>\n",
       "      <td>33.56</td>\n",
       "      <td>35.153402</td>\n",
       "    </tr>\n",
       "    <tr>\n",
       "      <th>7</th>\n",
       "      <td>amar</td>\n",
       "      <td>8</td>\n",
       "      <td>128.313595</td>\n",
       "      <td>120.308968</td>\n",
       "      <td>2.390246e+07</td>\n",
       "      <td>42.13</td>\n",
       "      <td>31.185367</td>\n",
       "    </tr>\n",
       "    <tr>\n",
       "      <th>8</th>\n",
       "      <td>chirag</td>\n",
       "      <td>9</td>\n",
       "      <td>136.236553</td>\n",
       "      <td>117.483749</td>\n",
       "      <td>1.991988e+07</td>\n",
       "      <td>25.64</td>\n",
       "      <td>35.451544</td>\n",
       "    </tr>\n",
       "    <tr>\n",
       "      <th>9</th>\n",
       "      <td>abhinav</td>\n",
       "      <td>10</td>\n",
       "      <td>129.561305</td>\n",
       "      <td>116.525631</td>\n",
       "      <td>3.983276e+07</td>\n",
       "      <td>36.42</td>\n",
       "      <td>31.536470</td>\n",
       "    </tr>\n",
       "  </tbody>\n",
       "</table>\n",
       "</div>"
      ],
      "text/plain": [
       "  customerName  customerID  AvgsessionLength  AvgtimeOnWebsite  \\\n",
       "0        varun           1        139.542985        133.354111   \n",
       "1         ajay           2        131.432870        127.679105   \n",
       "2     abhijeet           3        134.864072        127.310599   \n",
       "3          uma           4        138.919130        126.352481   \n",
       "4       nishit           5        135.581505        128.342418   \n",
       "5       nikunj           6        104.326371        118.343598   \n",
       "6        vijay           7        136.423710        133.624350   \n",
       "7         amar           8        128.313595        120.308968   \n",
       "8       chirag           9        136.236553        117.483749   \n",
       "9      abhinav          10        129.561305        116.525631   \n",
       "\n",
       "   yearlyAmountSpent  AvgtimeSpentToBuyAnItem  predictions  \n",
       "0       7.972159e+06                    33.56    30.624671  \n",
       "1       1.991988e+07                    42.13    36.806956  \n",
       "2       3.186761e+07                    25.64    27.364618  \n",
       "3       4.779790e+07                    36.42    35.449828  \n",
       "4       5.974563e+07                    39.61    38.337753  \n",
       "5       1.792860e+07                    23.54    33.747406  \n",
       "6       1.036170e+07                    33.56    35.153402  \n",
       "7       2.390246e+07                    42.13    31.185367  \n",
       "8       1.991988e+07                    25.64    35.451544  \n",
       "9       3.983276e+07                    36.42    31.536470  "
      ]
     },
     "execution_count": 29,
     "metadata": {},
     "output_type": "execute_result"
    }
   ],
   "source": [
    "column_names = ['AvgsessionLength', 'AvgtimeOnWebsite',\n",
    "       'yearlyAmountSpent','predictions']\n",
    "features = df_out[column_names]\n",
    "inversescaled = sc.inverse_transform(features)\n",
    "df_out[column_names] = inversescaled\n",
    "\n",
    "\n",
    "df_out\n"
   ]
  },
  {
   "cell_type": "code",
   "execution_count": null,
   "metadata": {},
   "outputs": [],
   "source": []
  },
  {
   "cell_type": "code",
   "execution_count": 30,
   "metadata": {},
   "outputs": [],
   "source": [
    "from sklearn import metrics"
   ]
  },
  {
   "cell_type": "code",
   "execution_count": 33,
   "metadata": {},
   "outputs": [
    {
     "name": "stdout",
     "output_type": "stream",
     "text": [
      "MAE  4.9665925210943715\n",
      "MSE  38.911543598243156\n",
      "RMSE 6.237911797889031\n"
     ]
    }
   ],
   "source": [
    "print('MAE ', metrics.mean_absolute_error(df_out['predictions'], df_out['AvgtimeSpentToBuyAnItem']))\n",
    "print('MSE ', metrics.mean_squared_error(df_out['predictions'], df_out['AvgtimeSpentToBuyAnItem']))\n",
    "print('RMSE', np.sqrt(metrics.mean_squared_error(df_out['predictions'], df_out['AvgtimeSpentToBuyAnItem'])))"
   ]
  },
  {
   "cell_type": "code",
   "execution_count": 51,
   "metadata": {},
   "outputs": [
    {
     "data": {
      "image/png": "[encoded data removed]",
      "text/plain": [
       "<Figure size 432x288 with 1 Axes>"
      ]
     },
     "metadata": {
      "needs_background": "light"
     },
     "output_type": "display_data"
    }
   ],
   "source": [
    "\n",
    "plt.plot(df_out['predictions'])\n",
    "plt.plot(df_out['AvgtimeSpentToBuyAnItem'])\n",
    "plt.title = \"Avg Time spent to buy an item\\nPredicted Time\"\n",
    "plt.xlabel = 'Predicted Time'\n",
    "plt.ylabel = 'Avg actual Time'\n",
    "\n",
    "\n",
    "plt.show()"
   ]
  },
  {
   "cell_type": "code",
   "execution_count": null,
   "metadata": {},
   "outputs": [],
   "source": []
  }
 ],
 "metadata": {
  "kernelspec": {
   "display_name": "Python 3",
   "language": "python",
   "name": "python3"
  },
  "language_info": {
   "codemirror_mode": {
    "name": "ipython",
    "version": 3
   },
   "file_extension": ".py",
   "mimetype": "text/x-python",
   "name": "python",
   "nbconvert_exporter": "python",
   "pygments_lexer": "ipython3",
   "version": "3.8.3"
  }
 },
 "nbformat": 4,
 "nbformat_minor": 4
}

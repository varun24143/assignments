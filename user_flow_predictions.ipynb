{
 "cells": [
  {
   "cell_type": "markdown",
   "metadata": {},
   "source": [
    "Lets first create the page numbers\n",
    "\n",
    "landing page(home page) - page1\n",
    "product page - page2\n",
    "checkout page - page3\n",
    "cart page - page4\n",
    "index page - page5\n",
    "contactus page - page7\n",
    "productdetails page - page8 (After clicking to a particular product it opens this page)\n",
    "payment"
   ]
  },
  {
   "cell_type": "code",
   "execution_count": null,
   "metadata": {},
   "outputs": [],
   "source": [
    "import pandas as pd\n",
    "import numpy as np\n",
    "import matplotlib.pyplot as plt\n",
    "import seaborn as sns"
   ]
  },
  {
   "cell_type": "code",
   "execution_count": null,
   "metadata": {},
   "outputs": [],
   "source": [
    "data = {\n",
    "    \"users\":['user1',\n",
    "             'user2', \n",
    "             'user3', \n",
    "             'user4', \n",
    "             'user5', \n",
    "             'user6', \n",
    "             'user7', \n",
    "             'user8', \n",
    "             'user9', \n",
    "             'user10', \n",
    "             'user11', \n",
    "             'user12', \n",
    "             'user13', \n",
    "             'user14', \n",
    "             'user15'],\n",
    "    \"1\":['A1','A2','A2','A4','A5','A6','A1','A2','A2','A4','A5','A6','A6','A4','A2'],\n",
    "    \"2\":['A1','A1','A2','A6','A2','A1','A2','A2','A4','A5','A6','A6','A6','A3','A4'],\n",
    "    \"3\":['A1','A3','A1','A5','A3','A3','A3','A4','A4','A5','A6','A3','A6','A2','A3'],\n",
    "    \"4\":['A1','A4','A2','A3','A3','A2','A3','A4','A4','A5','A4','A2','A6','A6','A5'],\n",
    "    \"5\":['A1','A5','A6','A1','A2','A2','A4','A5','A6','A5','A2','A6','A6','A6','A1'],\n",
    "    \"6\":['A3','A6','A5','A2','A2','A1','A3','A4','A4','A5','A6','A6','A6','A6','A2'],\n",
    "    \"7\":['A4','A2','A4','A3','A1','A6','A3','A4','A1','A2','A2','A4','A5','A1','A2'],\n",
    "    \"8\":['A1','A1','A3','A4','A1','A4','A3','A4','A4','A5','A6','A6','A6','A2','A5'],\n",
    "    \"9\":['A1','A2','A3','A5','A2','A2','A1','A2','A2','A4','A5','A6','A6','A3','A6'],\n",
    "    \"10\":['A1','A2','A3','A4','A2','A3','A3','A4','A1','A2','A2','A4','A5','A6','A1'],\n",
    "}"
   ]
  },
  {
   "cell_type": "code",
   "execution_count": null,
   "metadata": {},
   "outputs": [],
   "source": [
    "df = pd.DataFrame(data)\n",
    "df = df.set_index('users')\n",
    "df"
   ]
  },
  {
   "cell_type": "code",
   "execution_count": null,
   "metadata": {},
   "outputs": [],
   "source": [
    "collect_clicks = []\n",
    "max_clicks = []\n",
    "for i in range(0,15):\n",
    "    collect_clicks.append(df.iloc[i].value_counts().keys())\n",
    "    max_clicks.append(np.array(df.iloc[i].value_counts()))\n",
    "collect_clicks\n"
   ]
  },
  {
   "cell_type": "code",
   "execution_count": null,
   "metadata": {},
   "outputs": [],
   "source": [
    "collect_clicks[0][2], max_clicks[0][2]\n",
    "#max_clicks[0][0]"
   ]
  },
  {
   "cell_type": "code",
   "execution_count": null,
   "metadata": {},
   "outputs": [],
   "source": [
    "for i in range(0, 15):\n",
    "    for j in range(0, len(collect_clicks[i])):\n",
    "        clicks_dict = dict(zip(collect_clicks[i][[j]], max_clicks[i][[j]]))\n",
    "\n",
    "clicks_dict"
   ]
  },
  {
   "cell_type": "code",
   "execution_count": null,
   "metadata": {},
   "outputs": [],
   "source": [
    "df['features'] = df[df.columns[1:]].apply(\n",
    "    lambda x: ','.join(x.dropna().astype(str)),\n",
    "    axis=1)\n",
    "df"
   ]
  },
  {
   "cell_type": "code",
   "execution_count": null,
   "metadata": {},
   "outputs": [],
   "source": [
    "#np.array(df.iloc[0].value_counts())/np.array(np.sum(df.iloc[i].value_counts()))\n"
   ]
  },
  {
   "cell_type": "code",
   "execution_count": null,
   "metadata": {},
   "outputs": [],
   "source": [
    "max_clicks = []\n",
    "for i in range(0, 15):\n",
    "        max_clicks.append(np.array(df.iloc[i].value_counts()))#/np.array(np.sum(df.iloc[i].value_counts())))\n",
    "max_clicks\n",
    "\n"
   ]
  },
  {
   "cell_type": "code",
   "execution_count": null,
   "metadata": {},
   "outputs": [],
   "source": [
    "max_clicks[0]"
   ]
  },
  {
   "cell_type": "code",
   "execution_count": null,
   "metadata": {},
   "outputs": [],
   "source": [
    "clicks_dict = {}"
   ]
  },
  {
   "cell_type": "code",
   "execution_count": null,
   "metadata": {},
   "outputs": [],
   "source": [
    "for i in range(0, 15):\n",
    "    for j in range(0, len(collect_clicks[i])):\n",
    "        clicks_dict = dict(zip(collect_clicks[i][j], max_clicks[i][j]))\n",
    "\n",
    "clicks_dict"
   ]
  },
  {
   "cell_type": "code",
   "execution_count": null,
   "metadata": {},
   "outputs": [],
   "source": [
    "import itertools\n",
    "keys = collect_clicks"
   ]
  },
  {
   "cell_type": "code",
   "execution_count": null,
   "metadata": {},
   "outputs": [],
   "source": [
    "max_clicks"
   ]
  },
  {
   "cell_type": "code",
   "execution_count": null,
   "metadata": {},
   "outputs": [],
   "source": [
    "pd.Series(max_clicks)"
   ]
  },
  {
   "cell_type": "code",
   "execution_count": null,
   "metadata": {},
   "outputs": [],
   "source": [
    "#max_clicks = pd.Series(max_clicks)\n",
    "#max_clicks"
   ]
  },
  {
   "cell_type": "code",
   "execution_count": null,
   "metadata": {},
   "outputs": [],
   "source": [
    "df['max_prob'] = pd.Series(max_clicks, index=df.index)"
   ]
  },
  {
   "cell_type": "code",
   "execution_count": null,
   "metadata": {},
   "outputs": [],
   "source": [
    "df"
   ]
  },
  {
   "cell_type": "code",
   "execution_count": null,
   "metadata": {},
   "outputs": [],
   "source": [
    "import xgboost as xgb"
   ]
  },
  {
   "cell_type": "code",
   "execution_count": null,
   "metadata": {},
   "outputs": [],
   "source": [
    "X = df.iloc[:,:-2]\n",
    "y = df.iloc[:,-1]"
   ]
  },
  {
   "cell_type": "code",
   "execution_count": null,
   "metadata": {},
   "outputs": [],
   "source": [
    "from sklearn.preprocessing import LabelEncoder\n",
    "le = LabelEncoder()\n",
    "df['click1'] = le.fit_transform(df.iloc[:,1])\n",
    "df['click2'] = le.fit_transform(df.iloc[:,2])\n",
    "df['click3'] = le.fit_transform(df.iloc[:,3])\n",
    "df['click4'] = le.fit_transform(df.iloc[:,4])\n",
    "df['click5'] = le.fit_transform(df.iloc[:,5])\n",
    "df['click6'] = le.fit_transform(df.iloc[:,6])\n",
    "df['click7'] = le.fit_transform(df.iloc[:,7])\n",
    "df['click8'] = le.fit_transform(df.iloc[:,8])\n",
    "df['click9'] = le.fit_transform(df.iloc[:,9])\n",
    "df['click10'] = le.fit_transform(df.iloc[:,10])\n",
    "df"
   ]
  },
  {
   "cell_type": "code",
   "execution_count": null,
   "metadata": {},
   "outputs": [],
   "source": [
    "X = df.iloc[:,12:]\n",
    "X"
   ]
  },
  {
   "cell_type": "code",
   "execution_count": null,
   "metadata": {},
   "outputs": [],
   "source": [
    "y = df.iloc[:,11]\n",
    "y"
   ]
  },
  {
   "cell_type": "code",
   "execution_count": null,
   "metadata": {},
   "outputs": [],
   "source": [
    "import xgboost as xgb"
   ]
  },
  {
   "cell_type": "code",
   "execution_count": null,
   "metadata": {},
   "outputs": [],
   "source": [
    "from sklearn.model_selection import train_test_split\n",
    "X_train, X_test, y_train, y_test = train_test_split(X, y, test_size=0.2)"
   ]
  },
  {
   "cell_type": "code",
   "execution_count": null,
   "metadata": {},
   "outputs": [],
   "source": [
    "xgb_reg = xgb.XGBRegressor(objective = 'reg:linear', colsample_bytree=0.3, learning_rate=0.1, max_depth=2, alpha=4, n_estimators=2)"
   ]
  },
  {
   "cell_type": "code",
   "execution_count": null,
   "metadata": {},
   "outputs": [],
   "source": [
    "xgb_reg.fit(X_train, y_train)\n",
    "\n",
    "preds = xgb_reg.predict(X_test)"
   ]
  },
  {
   "cell_type": "code",
   "execution_count": null,
   "metadata": {},
   "outputs": [],
   "source": [
    "preds"
   ]
  },
  {
   "cell_type": "code",
   "execution_count": null,
   "metadata": {},
   "outputs": [],
   "source": [
    "xgb.plot_importance(xgb_reg)\n",
    "plt.rcParams['figure.figsize'] = [5,5]\n",
    "plt.show()"
   ]
  },
  {
   "cell_type": "code",
   "execution_count": null,
   "metadata": {},
   "outputs": [],
   "source": [
    "\"\"\"\n",
    "dic_upd = {}\n",
    "def prob_action_click(data):\n",
    "    for i in range(0, 14):\n",
    "        unique, counts = np.unique(df.loc[i], return_counts=True)\n",
    "        dic_upd.update(dict(zip(unique, counts)))\n",
    "        \n",
    "df['features'] = df[df.columns[1:]].apply(\n",
    "    lambda x: ','.join(x.dropna().astype(str)),\n",
    "    axis=1)\n",
    "df\n",
    "\"\"\""
   ]
  }
 ],
 "metadata": {
  "kernelspec": {
   "display_name": "Python 3",
   "language": "python",
   "name": "python3"
  },
  "language_info": {
   "codemirror_mode": {
    "name": "ipython",
    "version": 3
   },
   "file_extension": ".py",
   "mimetype": "text/x-python",
   "name": "python",
   "nbconvert_exporter": "python",
   "pygments_lexer": "ipython3",
   "version": "3.8.3"
  }
 },
 "nbformat": 4,
 "nbformat_minor": 4
}
